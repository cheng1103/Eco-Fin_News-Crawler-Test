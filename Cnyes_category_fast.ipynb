{
  "nbformat": 4,
  "nbformat_minor": 0,
  "metadata": {
    "colab": {
      "name": "Cnyes category fast.ipynb",
      "provenance": [],
      "collapsed_sections": [],
      "authorship_tag": "ABX9TyNchYt7UuSMXppXABJQsZ5j",
      "include_colab_link": true
    },
    "kernelspec": {
      "name": "python3",
      "display_name": "Python 3"
    },
    "language_info": {
      "name": "python"
    }
  },
  "cells": [
    {
      "cell_type": "markdown",
      "metadata": {
        "id": "view-in-github",
        "colab_type": "text"
      },
      "source": [
        "<a href=\"https://colab.research.google.com/github/cheng1103/Eco-Fin_News-Crawler-Test/blob/main/Cnyes_category_fast.ipynb\" target=\"_parent\"><img src=\"https://colab.research.google.com/assets/colab-badge.svg\" alt=\"Open In Colab\"/></a>"
      ]
    },
    {
      "cell_type": "markdown",
      "source": [
        "<h1><span style=\"font-size:20px\"><strong>鉅亨網新聞主題爬蟲（精確版，用於Colab平台）</strong></span></h1>\n",
        "\n",
        "<p>可自訂主題新聞與日期區間爬取新聞內文，並可設定是否爬取頭條以外的新聞<br />\n",
        "<span style=\"color:null\"><strong>輸出資料的欄位依序為：</strong></span> <strong>張貼時間、新聞編號(網址)、版別、標題、頭條標記、內文、股號(如果有)</strong> <strong>。資料格式為csv檔，並以UTF8編碼，直接存入Google雲端硬碟</strong></p>\n",
        "\n",
        "<p>支援的分類新聞目錄：</p>\n",
        "\n",
        "<p>1.台股 V<br />\n",
        "&nbsp; a.台灣政經 V<br />\n",
        "&nbsp; b.台股盤勢 V<br />\n",
        "&nbsp; c.台股盤勢 V<br />\n",
        "&nbsp; d.台股盤勢 V</p>\n",
        "\n",
        "<p>2.國際股 V<br />\n",
        "&nbsp; a.美股 V<br />\n",
        "&nbsp; b.美股雷達 V<br />\n",
        "&nbsp; c.歐亞股 V<br />\n",
        "&nbsp; d.國際政經 V</p>\n",
        "\n",
        "<p>3.陸港股 V</p>\n",
        "\n",
        "<p>4.外匯 V</p>\n",
        "\n",
        "<p>5.期貨 V</p>\n",
        "\n",
        "<p>6.房產 V</p>\n",
        "\n",
        "<p>7.基金 V</p>\n",
        "\n",
        "<p>8.區塊鏈 V</p>\n"
      ],
      "metadata": {
        "id": "afItgO51IoQn"
      }
    },
    {
      "cell_type": "markdown",
      "source": [
        "# 新聞類別與查詢區間設定\n"
      ],
      "metadata": {
        "id": "5jgVBggFpjLR"
      }
    },
    {
      "cell_type": "code",
      "source": [
        "#設定區域 publishAt \tnewsId \tcategoryName \ttitle \tisCategoryHeadline \tcontent \tstock\n",
        "#==============================================\n",
        "#頭條設定 \n",
        "# 1表示限定頭條； 0表示不限 \n",
        "Headline = 1\n",
        "\n",
        "#輸入類別\n",
        "c = '台股'\n",
        "\n",
        "#查詢區間\n",
        "s_time = \"2021-09-01 00:00:00\" #開始日期 \n",
        "e_time = \"2022-01-31 00:00:00\" #結束日期\n",
        "\n",
        "#檔名設定\n",
        "file_name = 'original_data'\n",
        "\n",
        "#==============================================\n",
        "\n",
        "data_URL = []\n",
        "\n",
        "kind = {\n",
        "  '台股':'tw_stock',\n",
        "  '台灣政經':'tw_macro',\n",
        "  '台股盤勢':'tw_quo',\n",
        "  '專家觀點':'stock_report',\n",
        "  '台股新聞':'tw_stock_news',\n",
        "\n",
        "  '國際股':'wd_stock',\n",
        "  '美股':'us_stock',\n",
        "  '美股雷達':'us_stock_live',\n",
        "  '歐亞股':'eu_asia_stock',\n",
        "  '國際政經':'wd_macro',\n",
        "\n",
        "  '陸港股':'cn_stock',\n",
        "  '外匯':'forex',\n",
        "  '期貨':'future',\n",
        "  '房產':'cnyeshouse',\n",
        "  '基金':'fund',\n",
        "  '區塊鏈':'bc'\n",
        "\n",
        "}\n",
        "\n",
        "c = kind.get(c)\n",
        "\n",
        "\n",
        "#頭條篩選\n",
        "if Headline == 1 :\n",
        "  CH = '&isCategoryHeadline=1'\n",
        "else :\n",
        "  CH = ''"
      ],
      "metadata": {
        "id": "xj5iK1cXiZ9h"
      },
      "execution_count": 75,
      "outputs": []
    },
    {
      "cell_type": "markdown",
      "source": [
        "# 安裝並載入套件"
      ],
      "metadata": {
        "id": "4u1lolz2_ykf"
      }
    },
    {
      "cell_type": "code",
      "source": [
        "!pip install fake_useragent\n",
        "from fake_useragent import UserAgent\n",
        "import requests\n",
        "from bs4 import BeautifulSoup\n",
        "from lxml import etree\n",
        "\n",
        "import random\n",
        "import time\n",
        "import datetime\n",
        "import json\n",
        "import pandas as pd\n",
        "import re\n",
        "#%reset -f"
      ],
      "metadata": {
        "id": "8sRkBMjM7Lca",
        "colab": {
          "base_uri": "https://localhost:8080/"
        },
        "outputId": "0c9674bd-8985-418f-bf50-996a17165de7"
      },
      "execution_count": 48,
      "outputs": [
        {
          "output_type": "stream",
          "name": "stdout",
          "text": [
            "Requirement already satisfied: fake_useragent in /usr/local/lib/python3.7/dist-packages (0.1.11)\n"
          ]
        }
      ]
    },
    {
      "cell_type": "markdown",
      "source": [
        "# 自定義程式"
      ],
      "metadata": {
        "id": "-Lt-MrRvpOUV"
      }
    },
    {
      "cell_type": "code",
      "source": [
        "def url_list(s_time,e_time):\n",
        "  \n",
        "  #==============================================\n",
        "  #時間區間設定\n",
        "  s_time = int(time.mktime(time.strptime(s_time, \"%Y-%m-%d %H:%M:%S\")))-28800 # 轉成時間戳\n",
        "  e_time = int(time.mktime(time.strptime(e_time, \"%Y-%m-%d %H:%M:%S\")))-28800\n",
        "\n",
        "  #==============================================\n",
        "  p = 1\n",
        "  l_page = 9\n",
        "  data = pd.DataFrame()\n",
        "\n",
        "  while p <= l_page :\n",
        "\n",
        "    headers = UserAgent().random #隨機請求表頭\n",
        "    \n",
        "    url = 'https://api.cnyes.com/media/api/v1/newslist/category/'+c+'?startAt='+str(s_time)+'&endAt='+str(e_time)+CH+\"&limit=30&page=\"+str(p)\n",
        "    req = requests.get(url, headers={\"User-Agent\":headers})\n",
        "    req = req.json()\n",
        "\n",
        "    #最末頁之路徑\n",
        "    if p == 1:\n",
        "      l_page = req[\"items\"][\"last_page\"] \n",
        "\n",
        "    req_data = req[\"items\"][\"data\"]\n",
        "    temp_data = pd.DataFrame.from_dict(req_data)\n",
        "    \n",
        "    #擷取資料\n",
        "    publishAt = temp_data['publishAt']\n",
        "    newsId_url = temp_data['newsId']\n",
        "    categoryName = temp_data['categoryName']\n",
        "    title = temp_data['title']\n",
        "    Headline = temp_data['isCategoryHeadline']\n",
        "    stock = temp_data['stock']\n",
        "    #stock =  \",\".join(stock)\n",
        "    content = temp_data['content']\n",
        "\n",
        "    temp_data = pd.concat([publishAt, newsId_url, categoryName, title, Headline ,content, stock], 1)\n",
        "    temp_data = reFormat(temp_data)\n",
        "\n",
        "\n",
        "\n",
        "\n",
        "\n",
        "\n",
        "\n",
        "    data = pd.concat([data, temp_data])\n",
        "        \n",
        "    #休眠\n",
        "    t = random.uniform(0.005, 0.2) #隨機數\n",
        "    time.sleep(t) #暫停\n",
        "\n",
        "    p = p+1\n",
        "\n",
        "    if p%20 == 0:\n",
        "      print(p/l_page*100)\n",
        "      data.drop_duplicates(subset='newsId', keep='first', inplace=True) #移除重複資料\n",
        "      time.sleep(0.5)\n",
        "\n",
        "\n",
        "  data.drop_duplicates(subset='newsId', keep='first', inplace=True) #移除重複資料\n",
        "  return(data)\n",
        "\n"
      ],
      "metadata": {
        "id": "JuqudU7urVAr"
      },
      "execution_count": 82,
      "outputs": []
    },
    {
      "cell_type": "code",
      "source": [
        "def reFormat (temp_data):\n",
        "  for r in range(len(temp_data)):\n",
        "      c = temp_data['content'][r]\n",
        "      c = etree.HTML(text=c)\n",
        "      c = c.xpath('string(.)')\n",
        "      pattern = re.compile(r'<[^>]+>',re.S)\n",
        "      c = pattern.sub('', c)\n",
        "      c = c.replace('\\n', '').replace('&nbsp', '')\n",
        "      temp_data['content'][r] = c\n",
        "\n",
        "      struct_time = time.localtime(temp_data['publishAt'][r]) # 轉成時間元組\n",
        "      temp_data['publishAt'][r] = time.strftime(\"%Y/%m/%d %H:%M\", struct_time) # 轉成字串\n",
        "  return(temp_data)"
      ],
      "metadata": {
        "id": "9J9g1t50mCDU"
      },
      "execution_count": 83,
      "outputs": []
    },
    {
      "cell_type": "markdown",
      "source": [
        "# 執行程式"
      ],
      "metadata": {
        "id": "iYEHWFTNp1yH"
      }
    },
    {
      "cell_type": "code",
      "source": [
        "data = url_list(s_time,e_time)\n",
        "data = data.sort_values(by='publishAt', ascending=True)\n",
        "data = data.reset_index(drop=True) "
      ],
      "metadata": {
        "id": "NaKvr2pjc4pM",
        "colab": {
          "base_uri": "https://localhost:8080/"
        },
        "outputId": "480e058a-a47c-4d2b-8525-4dbf9554b3de"
      },
      "execution_count": 84,
      "outputs": [
        {
          "output_type": "stream",
          "name": "stderr",
          "text": [
            "/usr/local/lib/python3.7/dist-packages/ipykernel_launcher.py:38: FutureWarning: In a future version of pandas all arguments of concat except for the argument 'objs' will be keyword-only\n",
            "/usr/local/lib/python3.7/dist-packages/ipykernel_launcher.py:9: SettingWithCopyWarning: \n",
            "A value is trying to be set on a copy of a slice from a DataFrame\n",
            "\n",
            "See the caveats in the documentation: https://pandas.pydata.org/pandas-docs/stable/user_guide/indexing.html#returning-a-view-versus-a-copy\n",
            "  if __name__ == '__main__':\n",
            "/usr/local/lib/python3.7/dist-packages/ipykernel_launcher.py:12: SettingWithCopyWarning: \n",
            "A value is trying to be set on a copy of a slice from a DataFrame\n",
            "\n",
            "See the caveats in the documentation: https://pandas.pydata.org/pandas-docs/stable/user_guide/indexing.html#returning-a-view-versus-a-copy\n",
            "  if sys.path[0] == '':\n",
            "/usr/local/lib/python3.7/dist-packages/pandas/core/indexing.py:1732: SettingWithCopyWarning: \n",
            "A value is trying to be set on a copy of a slice from a DataFrame\n",
            "\n",
            "See the caveats in the documentation: https://pandas.pydata.org/pandas-docs/stable/user_guide/indexing.html#returning-a-view-versus-a-copy\n",
            "  self._setitem_single_block(indexer, value, name)\n"
          ]
        },
        {
          "output_type": "stream",
          "name": "stdout",
          "text": [
            "19.607843137254903\n",
            "39.21568627450981\n",
            "58.82352941176471\n",
            "78.43137254901961\n",
            "98.0392156862745\n"
          ]
        }
      ]
    },
    {
      "cell_type": "markdown",
      "source": [
        "# 檢視資料"
      ],
      "metadata": {
        "id": "eoxbWzWqhn2g"
      }
    },
    {
      "cell_type": "code",
      "source": [
        "data"
      ],
      "metadata": {
        "colab": {
          "base_uri": "https://localhost:8080/",
          "height": 641
        },
        "id": "U8wBYKHweS7C",
        "outputId": "4e4ab93c-a70c-4dfa-a303-65ab18793fd7"
      },
      "execution_count": 85,
      "outputs": [
        {
          "output_type": "execute_result",
          "data": {
            "text/html": [
              "\n",
              "  <div id=\"df-42ca5ed6-a250-4c77-89c2-e641614bfc6f\">\n",
              "    <div class=\"colab-df-container\">\n",
              "      <div>\n",
              "<style scoped>\n",
              "    .dataframe tbody tr th:only-of-type {\n",
              "        vertical-align: middle;\n",
              "    }\n",
              "\n",
              "    .dataframe tbody tr th {\n",
              "        vertical-align: top;\n",
              "    }\n",
              "\n",
              "    .dataframe thead th {\n",
              "        text-align: right;\n",
              "    }\n",
              "</style>\n",
              "<table border=\"1\" class=\"dataframe\">\n",
              "  <thead>\n",
              "    <tr style=\"text-align: right;\">\n",
              "      <th></th>\n",
              "      <th>publishAt</th>\n",
              "      <th>newsId</th>\n",
              "      <th>categoryName</th>\n",
              "      <th>title</th>\n",
              "      <th>isCategoryHeadline</th>\n",
              "      <th>content</th>\n",
              "      <th>stock</th>\n",
              "    </tr>\n",
              "  </thead>\n",
              "  <tbody>\n",
              "    <tr>\n",
              "      <th>0</th>\n",
              "      <td>2021/11/30 22:00</td>\n",
              "      <td>4778535</td>\n",
              "      <td>台股新聞</td>\n",
              "      <td>〈台股盤前要聞〉台積電再發債167億元、弘塑扮異質整合要角 今日必看財經新聞</td>\n",
              "      <td>1</td>\n",
              "      <td>關注台股盤前要聞重點，因應新擴建廠房設備，台積電再發行 167 億元無擔保公司債；台積電異質...</td>\n",
              "      <td>[2317, 2330, 2881, 2888, 3090, 3131, 3680, 5820]</td>\n",
              "    </tr>\n",
              "    <tr>\n",
              "      <th>1</th>\n",
              "      <td>2021/12/01 00:00</td>\n",
              "      <td>4778582</td>\n",
              "      <td>台股新聞</td>\n",
              "      <td>群益權證小教室：技術面－KD高檔鈍化</td>\n",
              "      <td>1</td>\n",
              "      <td>歡迎來到群益權證小教室！「權證」是很適合小資族的投資工具，有機會透過小額資金創造更多收入，今...</td>\n",
              "      <td>[6182]</td>\n",
              "    </tr>\n",
              "    <tr>\n",
              "      <th>2</th>\n",
              "      <td>2021/12/01 00:00</td>\n",
              "      <td>4778242</td>\n",
              "      <td>專家觀點</td>\n",
              "      <td>操盤手看台股：元宇宙股果然舊不如新 下一步怎麼選？</td>\n",
              "      <td>1</td>\n",
              "      <td>面對來勢洶洶的 Omicron 新變種病毒株，美國總統拜登表示不考慮旅行禁令或封城，此舉讓市...</td>\n",
              "      <td>[2497, 2498, 2618, 3701, 5371]</td>\n",
              "    </tr>\n",
              "    <tr>\n",
              "      <th>3</th>\n",
              "      <td>2021/12/01 00:30</td>\n",
              "      <td>4778591</td>\n",
              "      <td>台股新聞</td>\n",
              "      <td>Omicron變種病毒引爆獲利新契機</td>\n",
              "      <td>1</td>\n",
              "      <td>在莫德納執行長 Stephane Bancel 表示現有疫苗恐不足以對抗 Omicron 病...</td>\n",
              "      <td>[3701, 2497, 3624, 8046, 3037, 2401, 3006, 237...</td>\n",
              "    </tr>\n",
              "    <tr>\n",
              "      <th>4</th>\n",
              "      <td>2021/12/01 00:38</td>\n",
              "      <td>4778601</td>\n",
              "      <td>台股盤勢</td>\n",
              "      <td>〈台股盤前〉聯準會考慮加速Taper美股大跌 上檔有壓估維持區間震盪</td>\n",
              "      <td>1</td>\n",
              "      <td>台股昨 (11 月 30 日) 開高，但受 MSCI 調整指數收盤生效影響，尾盤爆量、漲幅收...</td>\n",
              "      <td>[2330, 3491, 4916, 6271]</td>\n",
              "    </tr>\n",
              "    <tr>\n",
              "      <th>...</th>\n",
              "      <td>...</td>\n",
              "      <td>...</td>\n",
              "      <td>...</td>\n",
              "      <td>...</td>\n",
              "      <td>...</td>\n",
              "      <td>...</td>\n",
              "      <td>...</td>\n",
              "    </tr>\n",
              "    <tr>\n",
              "      <th>3032</th>\n",
              "      <td>2022/01/31 08:00</td>\n",
              "      <td>4807605</td>\n",
              "      <td>台股新聞</td>\n",
              "      <td>〈企業衝生育率〉晶技育兒津貼方案 前三胎補助每月3000元起</td>\n",
              "      <td>1</td>\n",
              "      <td>物價、房價不斷上漲，台灣生育率逐年降低，甚至可能形成國安危機，政府、企業無不費盡心思祭出「催...</td>\n",
              "      <td>[3042]</td>\n",
              "    </tr>\n",
              "    <tr>\n",
              "      <th>3033</th>\n",
              "      <td>2022/01/31 09:00</td>\n",
              "      <td>4808165</td>\n",
              "      <td>台股新聞</td>\n",
              "      <td>〈企業衝生育率〉鴻海「0到6歲公司養」一胎補助130.5萬元 已發逾3億元</td>\n",
              "      <td>1</td>\n",
              "      <td>鴻海 (2317-TW) 積極推動生育政策，自 2020 年起推動「0 到 6 歲公司養」政...</td>\n",
              "      <td>[2317]</td>\n",
              "    </tr>\n",
              "    <tr>\n",
              "      <th>3034</th>\n",
              "      <td>2022/01/31 10:00</td>\n",
              "      <td>4802091</td>\n",
              "      <td>台股新聞</td>\n",
              "      <td>〈企業衝生育率〉中華電獨步全台減少員工工時 台灣大津貼最高12萬元</td>\n",
              "      <td>1</td>\n",
              "      <td>電信商為打造友善職場環境，今年全面提升育兒福利政策，中華電 (2412-TW) 獨步全台，有...</td>\n",
              "      <td>[2412, 3045, 4904]</td>\n",
              "    </tr>\n",
              "    <tr>\n",
              "      <th>3035</th>\n",
              "      <td>2022/01/31 10:30</td>\n",
              "      <td>4809088</td>\n",
              "      <td>台股新聞</td>\n",
              "      <td>〈企業衝生育率〉多家券商補助生育津貼 最高達10萬元</td>\n",
              "      <td>1</td>\n",
              "      <td>據統計，國內去年全年出生人數 15 萬 3820 人，創史上新低，人口負成長壓力持續擴大，因...</td>\n",
              "      <td>[]</td>\n",
              "    </tr>\n",
              "    <tr>\n",
              "      <th>3036</th>\n",
              "      <td>2022/01/31 11:00</td>\n",
              "      <td>4808749</td>\n",
              "      <td>台股新聞</td>\n",
              "      <td>〈企業衝生育率〉公股銀加碼生育津貼 一銀、華南銀生一胎補助10萬元起跳</td>\n",
              "      <td>1</td>\n",
              "      <td>響應政府鼓勵生育政策，公股銀行帶頭加碼給補貼，包括第一銀行、華南銀行與彰化銀行等都有相關的生...</td>\n",
              "      <td>[]</td>\n",
              "    </tr>\n",
              "  </tbody>\n",
              "</table>\n",
              "<p>3037 rows × 7 columns</p>\n",
              "</div>\n",
              "      <button class=\"colab-df-convert\" onclick=\"convertToInteractive('df-42ca5ed6-a250-4c77-89c2-e641614bfc6f')\"\n",
              "              title=\"Convert this dataframe to an interactive table.\"\n",
              "              style=\"display:none;\">\n",
              "        \n",
              "  <svg xmlns=\"http://www.w3.org/2000/svg\" height=\"24px\"viewBox=\"0 0 24 24\"\n",
              "       width=\"24px\">\n",
              "    <path d=\"M0 0h24v24H0V0z\" fill=\"none\"/>\n",
              "    <path d=\"M18.56 5.44l.94 2.06.94-2.06 2.06-.94-2.06-.94-.94-2.06-.94 2.06-2.06.94zm-11 1L8.5 8.5l.94-2.06 2.06-.94-2.06-.94L8.5 2.5l-.94 2.06-2.06.94zm10 10l.94 2.06.94-2.06 2.06-.94-2.06-.94-.94-2.06-.94 2.06-2.06.94z\"/><path d=\"M17.41 7.96l-1.37-1.37c-.4-.4-.92-.59-1.43-.59-.52 0-1.04.2-1.43.59L10.3 9.45l-7.72 7.72c-.78.78-.78 2.05 0 2.83L4 21.41c.39.39.9.59 1.41.59.51 0 1.02-.2 1.41-.59l7.78-7.78 2.81-2.81c.8-.78.8-2.07 0-2.86zM5.41 20L4 18.59l7.72-7.72 1.47 1.35L5.41 20z\"/>\n",
              "  </svg>\n",
              "      </button>\n",
              "      \n",
              "  <style>\n",
              "    .colab-df-container {\n",
              "      display:flex;\n",
              "      flex-wrap:wrap;\n",
              "      gap: 12px;\n",
              "    }\n",
              "\n",
              "    .colab-df-convert {\n",
              "      background-color: #E8F0FE;\n",
              "      border: none;\n",
              "      border-radius: 50%;\n",
              "      cursor: pointer;\n",
              "      display: none;\n",
              "      fill: #1967D2;\n",
              "      height: 32px;\n",
              "      padding: 0 0 0 0;\n",
              "      width: 32px;\n",
              "    }\n",
              "\n",
              "    .colab-df-convert:hover {\n",
              "      background-color: #E2EBFA;\n",
              "      box-shadow: 0px 1px 2px rgba(60, 64, 67, 0.3), 0px 1px 3px 1px rgba(60, 64, 67, 0.15);\n",
              "      fill: #174EA6;\n",
              "    }\n",
              "\n",
              "    [theme=dark] .colab-df-convert {\n",
              "      background-color: #3B4455;\n",
              "      fill: #D2E3FC;\n",
              "    }\n",
              "\n",
              "    [theme=dark] .colab-df-convert:hover {\n",
              "      background-color: #434B5C;\n",
              "      box-shadow: 0px 1px 3px 1px rgba(0, 0, 0, 0.15);\n",
              "      filter: drop-shadow(0px 1px 2px rgba(0, 0, 0, 0.3));\n",
              "      fill: #FFFFFF;\n",
              "    }\n",
              "  </style>\n",
              "\n",
              "      <script>\n",
              "        const buttonEl =\n",
              "          document.querySelector('#df-42ca5ed6-a250-4c77-89c2-e641614bfc6f button.colab-df-convert');\n",
              "        buttonEl.style.display =\n",
              "          google.colab.kernel.accessAllowed ? 'block' : 'none';\n",
              "\n",
              "        async function convertToInteractive(key) {\n",
              "          const element = document.querySelector('#df-42ca5ed6-a250-4c77-89c2-e641614bfc6f');\n",
              "          const dataTable =\n",
              "            await google.colab.kernel.invokeFunction('convertToInteractive',\n",
              "                                                     [key], {});\n",
              "          if (!dataTable) return;\n",
              "\n",
              "          const docLinkHtml = 'Like what you see? Visit the ' +\n",
              "            '<a target=\"_blank\" href=https://colab.research.google.com/notebooks/data_table.ipynb>data table notebook</a>'\n",
              "            + ' to learn more about interactive tables.';\n",
              "          element.innerHTML = '';\n",
              "          dataTable['output_type'] = 'display_data';\n",
              "          await google.colab.output.renderOutput(dataTable, element);\n",
              "          const docLink = document.createElement('div');\n",
              "          docLink.innerHTML = docLinkHtml;\n",
              "          element.appendChild(docLink);\n",
              "        }\n",
              "      </script>\n",
              "    </div>\n",
              "  </div>\n",
              "  "
            ],
            "text/plain": [
              "             publishAt  ...                                              stock\n",
              "0     2021/11/30 22:00  ...   [2317, 2330, 2881, 2888, 3090, 3131, 3680, 5820]\n",
              "1     2021/12/01 00:00  ...                                             [6182]\n",
              "2     2021/12/01 00:00  ...                     [2497, 2498, 2618, 3701, 5371]\n",
              "3     2021/12/01 00:30  ...  [3701, 2497, 3624, 8046, 3037, 2401, 3006, 237...\n",
              "4     2021/12/01 00:38  ...                           [2330, 3491, 4916, 6271]\n",
              "...                ...  ...                                                ...\n",
              "3032  2022/01/31 08:00  ...                                             [3042]\n",
              "3033  2022/01/31 09:00  ...                                             [2317]\n",
              "3034  2022/01/31 10:00  ...                                 [2412, 3045, 4904]\n",
              "3035  2022/01/31 10:30  ...                                                 []\n",
              "3036  2022/01/31 11:00  ...                                                 []\n",
              "\n",
              "[3037 rows x 7 columns]"
            ]
          },
          "metadata": {},
          "execution_count": 85
        }
      ]
    },
    {
      "cell_type": "markdown",
      "source": [
        "# 連結Google Drive並匯出資料"
      ],
      "metadata": {
        "id": "lbF3QCDQizsk"
      }
    },
    {
      "cell_type": "code",
      "source": [
        "\n",
        "from google.colab import drive\n",
        "drive.mount('/content/drive')\n",
        "\n",
        "\n",
        "#輸出檔案\n",
        "path = '/content/drive/MyDrive/'+file_name+'.csv'\n",
        "data.to_csv(path)"
      ],
      "metadata": {
        "id": "KtmisyrisxVr",
        "colab": {
          "base_uri": "https://localhost:8080/"
        },
        "outputId": "3dbaa563-54da-438a-cf98-ccaba9d72c6f"
      },
      "execution_count": null,
      "outputs": [
        {
          "output_type": "stream",
          "name": "stdout",
          "text": [
            "Mounted at /content/drive\n"
          ]
        }
      ]
    }
  ]
}