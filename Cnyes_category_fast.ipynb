{
  "nbformat": 4,
  "nbformat_minor": 0,
  "metadata": {
    "colab": {
      "name": "Cnyes category fast.ipynb",
      "provenance": [],
      "collapsed_sections": [],
      "authorship_tag": "ABX9TyMt7I5xEqfAztQ9DgbgEKM8",
      "include_colab_link": true
    },
    "kernelspec": {
      "name": "python3",
      "display_name": "Python 3"
    },
    "language_info": {
      "name": "python"
    }
  },
  "cells": [
    {
      "cell_type": "markdown",
      "metadata": {
        "id": "view-in-github",
        "colab_type": "text"
      },
      "source": [
        "<a href=\"https://colab.research.google.com/github/cheng1103/Eco-Fin_News-Crawler-Test/blob/main/Cnyes_category_fast.ipynb\" target=\"_parent\"><img src=\"https://colab.research.google.com/assets/colab-badge.svg\" alt=\"Open In Colab\"/></a>"
      ]
    },
    {
      "cell_type": "markdown",
      "source": [
        "<h1><span style=\"font-size:20px\"><strong>鉅亨網新聞主題爬蟲（精確版，用於Colab平台）</strong></span></h1>\n",
        "\n",
        "<p>可自訂主題新聞與日期區間爬取新聞內文，並可設定是否爬取頭條以外的新聞<br />\n",
        "<span style=\"color:null\"><strong>輸出資料的欄位依序為：</strong></span> <strong>張貼時間、新聞編號(網址)、版別、標題、頭條標記、內文、股號(如果有)</strong> <strong>。資料格式為csv檔，並以UTF8編碼，直接存入Google雲端硬碟</strong></p>\n",
        "\n",
        "<p>支援的分類新聞目錄：</p>\n",
        "\n",
        "<p>1.台股 V<br />\n",
        "&nbsp; a.台灣政經 V<br />\n",
        "&nbsp; b.台股盤勢 V<br />\n",
        "&nbsp; c.台股盤勢 V<br />\n",
        "&nbsp; d.台股盤勢 V</p>\n",
        "\n",
        "<p>2.國際股 V<br />\n",
        "&nbsp; a.美股 V<br />\n",
        "&nbsp; b.美股雷達 V<br />\n",
        "&nbsp; c.歐亞股 V<br />\n",
        "&nbsp; d.國際政經 V</p>\n",
        "\n",
        "<p>3.陸港股 V</p>\n",
        "\n",
        "<p>4.外匯 V</p>\n",
        "\n",
        "<p>5.期貨 V</p>\n",
        "\n",
        "<p>6.房產 V</p>\n",
        "\n",
        "<p>7.基金 V</p>\n",
        "\n",
        "<p>8.區塊鏈 V</p>\n"
      ],
      "metadata": {
        "id": "afItgO51IoQn"
      }
    },
    {
      "cell_type": "markdown",
      "source": [
        "# 新聞類別與查詢區間設定\n"
      ],
      "metadata": {
        "id": "5jgVBggFpjLR"
      }
    },
    {
      "cell_type": "code",
      "source": [
        "#設定區域 publishAt \tnewsId \tcategoryName \ttitle \tisCategoryHeadline \tcontent \tstock\n",
        "#==============================================\n",
        "#頭條設定 \n",
        "# 1表示限定頭條； 0表示不限 \n",
        "Headline = 1\n",
        "\n",
        "#輸入類別\n",
        "c = '台股'\n",
        "\n",
        "#查詢區間\n",
        "s_time = \"2021-09-01 00:00:00\" #開始日期 \n",
        "e_time = \"2022-01-31 00:00:00\" #結束日期\n",
        "\n",
        "#檔名設定\n",
        "file_name = 'sample'\n",
        "\n",
        "#==============================================\n",
        "\n",
        "data_URL = []\n",
        "\n",
        "kind = {\n",
        "  '台股':'tw_stock',\n",
        "  '台灣政經':'tw_macro',\n",
        "  '台股盤勢':'tw_quo',\n",
        "  '專家觀點':'stock_report',\n",
        "  '台股新聞':'tw_stock_news',\n",
        "\n",
        "  '國際股':'wd_stock',\n",
        "  '美股':'us_stock',\n",
        "  '美股雷達':'us_stock_live',\n",
        "  '歐亞股':'eu_asia_stock',\n",
        "  '國際政經':'wd_macro',\n",
        "\n",
        "  '陸港股':'cn_stock',\n",
        "  '外匯':'forex',\n",
        "  '期貨':'future',\n",
        "  '房產':'cnyeshouse',\n",
        "  '基金':'fund',\n",
        "  '區塊鏈':'bc'\n",
        "\n",
        "}\n",
        "\n",
        "c = kind.get(c)\n",
        "\n",
        "\n",
        "#頭條篩選\n",
        "if Headline == 1 :\n",
        "  CH = '&isCategoryHeadline=1'\n",
        "else :\n",
        "  CH = ''"
      ],
      "metadata": {
        "id": "xj5iK1cXiZ9h"
      },
      "execution_count": null,
      "outputs": []
    },
    {
      "cell_type": "markdown",
      "source": [
        "# 安裝並載入套件"
      ],
      "metadata": {
        "id": "4u1lolz2_ykf"
      }
    },
    {
      "cell_type": "code",
      "source": [
        "!pip install fake_useragent\n",
        "from fake_useragent import UserAgent\n",
        "import requests\n",
        "from bs4 import BeautifulSoup\n",
        "from lxml import etree\n",
        "\n",
        "import random\n",
        "import time\n",
        "import datetime\n",
        "import json\n",
        "import pandas as pd\n",
        "import re\n",
        "#%reset -f"
      ],
      "metadata": {
        "id": "8sRkBMjM7Lca",
        "colab": {
          "base_uri": "https://localhost:8080/"
        },
        "outputId": "407e64c4-c8f3-4ba4-a172-2020c316ac00"
      },
      "execution_count": null,
      "outputs": [
        {
          "output_type": "stream",
          "name": "stdout",
          "text": [
            "Requirement already satisfied: fake_useragent in /usr/local/lib/python3.7/dist-packages (0.1.11)\n"
          ]
        }
      ]
    },
    {
      "cell_type": "markdown",
      "source": [
        "# 自定義程式"
      ],
      "metadata": {
        "id": "-Lt-MrRvpOUV"
      }
    },
    {
      "cell_type": "code",
      "source": [
        "def url_list(s_time,e_time):\n",
        "  \n",
        "  #==============================================\n",
        "  #時間區間設定\n",
        "  s_time = int(time.mktime(time.strptime(s_time, \"%Y-%m-%d %H:%M:%S\")))-28800 # 轉成時間戳\n",
        "  e_time = int(time.mktime(time.strptime(e_time, \"%Y-%m-%d %H:%M:%S\")))-28800\n",
        "\n",
        "  #==============================================\n",
        "  p = 1\n",
        "  l_page = 9\n",
        "  data = pd.DataFrame()\n",
        "\n",
        "  while p <= l_page :\n",
        "\n",
        "    headers = UserAgent().random #隨機請求表頭\n",
        "    \n",
        "    url = 'https://api.cnyes.com/media/api/v1/newslist/category/'+c+'?startAt='+str(s_time)+'&endAt='+str(e_time)+CH+\"&limit=30&page=\"+str(p)\n",
        "    req = requests.get(url, headers={\"User-Agent\":headers})\n",
        "    req = req.json()\n",
        "\n",
        "    #最末頁之路徑\n",
        "    if p == 1:\n",
        "      l_page = req[\"items\"][\"last_page\"] \n",
        "\n",
        "    req_data = req[\"items\"][\"data\"]\n",
        "    temp_data = pd.DataFrame.from_dict(req_data)\n",
        "    \n",
        "    #擷取資料\n",
        "    publishAt = temp_data['publishAt']\n",
        "    newsId_url = temp_data['newsId']\n",
        "    categoryName = temp_data['categoryName']\n",
        "    title = temp_data['title']\n",
        "    Headline = temp_data['isCategoryHeadline']\n",
        "    stock = temp_data['stock']\n",
        "    #stock =  \",\".join(stock)\n",
        "    content = temp_data['content']\n",
        "\n",
        "    temp_data = pd.concat([publishAt, newsId_url, categoryName, title, Headline ,content, stock], 1)\n",
        "    temp_data = reFormat(temp_data)\n",
        "\n",
        "\n",
        "\n",
        "\n",
        "\n",
        "\n",
        "\n",
        "    data = pd.concat([data, temp_data])\n",
        "        \n",
        "    #休眠\n",
        "    t = random.uniform(0.005, 0.25) #隨機數\n",
        "    time.sleep(t) #暫停\n",
        "\n",
        "    p = p+1\n",
        "\n",
        "    if p%50 == 0:\n",
        "      print(p/l_page*100)\n",
        "      time.sleep(0.5)\n",
        "\n",
        "    if p%200 == 0:\n",
        "      data.drop_duplicates(subset='newsId', keep='first', inplace=True) #移除重複資料\n",
        "      time.sleep(2)\n",
        "\n",
        "  data.drop_duplicates(subset='newsId', keep='first', inplace=True) #移除重複資料\n",
        "  return(data)\n",
        "\n"
      ],
      "metadata": {
        "id": "JuqudU7urVAr"
      },
      "execution_count": null,
      "outputs": []
    },
    {
      "cell_type": "code",
      "source": [
        "def reFormat (temp_data):\n",
        "  for r in range(len(temp_data)):\n",
        "      c = temp_data['content'][r]\n",
        "      c = etree.HTML(text=c)\n",
        "      c = c.xpath('string(.)')\n",
        "      pattern = re.compile(r'<[^>]+>',re.S)\n",
        "      c = pattern.sub('', c)\n",
        "      c = c.replace('\\n', '').replace('&nbsp', '')\n",
        "      temp_data['content'][r] = c\n",
        "\n",
        "      struct_time = time.localtime(temp_data['publishAt'][r]) # 轉成時間元組\n",
        "      temp_data['publishAt'][r] = time.strftime(\"%Y/%m/%d %H:%M\", struct_time) # 轉成字串\n",
        "  return(temp_data)"
      ],
      "metadata": {
        "id": "9J9g1t50mCDU"
      },
      "execution_count": null,
      "outputs": []
    },
    {
      "cell_type": "markdown",
      "source": [
        "# 執行程式"
      ],
      "metadata": {
        "id": "iYEHWFTNp1yH"
      }
    },
    {
      "cell_type": "code",
      "source": [
        "data = url_list(s_time,e_time)\n",
        "data = data.sort_values(by='publishAt', ascending=True)\n",
        "data = data.reset_index(drop=True) "
      ],
      "metadata": {
        "id": "NaKvr2pjc4pM",
        "colab": {
          "base_uri": "https://localhost:8080/"
        },
        "outputId": "3815f469-0f28-4442-c3e3-19290e1d41ca"
      },
      "execution_count": null,
      "outputs": [
        {
          "output_type": "stream",
          "name": "stderr",
          "text": [
            "/usr/local/lib/python3.7/dist-packages/ipykernel_launcher.py:38: FutureWarning: In a future version of pandas all arguments of concat except for the argument 'objs' will be keyword-only\n",
            "/usr/local/lib/python3.7/dist-packages/ipykernel_launcher.py:9: SettingWithCopyWarning: \n",
            "A value is trying to be set on a copy of a slice from a DataFrame\n",
            "\n",
            "See the caveats in the documentation: https://pandas.pydata.org/pandas-docs/stable/user_guide/indexing.html#returning-a-view-versus-a-copy\n",
            "  if __name__ == '__main__':\n",
            "/usr/local/lib/python3.7/dist-packages/ipykernel_launcher.py:12: SettingWithCopyWarning: \n",
            "A value is trying to be set on a copy of a slice from a DataFrame\n",
            "\n",
            "See the caveats in the documentation: https://pandas.pydata.org/pandas-docs/stable/user_guide/indexing.html#returning-a-view-versus-a-copy\n",
            "  if sys.path[0] == '':\n",
            "/usr/local/lib/python3.7/dist-packages/pandas/core/indexing.py:1732: SettingWithCopyWarning: \n",
            "A value is trying to be set on a copy of a slice from a DataFrame\n",
            "\n",
            "See the caveats in the documentation: https://pandas.pydata.org/pandas-docs/stable/user_guide/indexing.html#returning-a-view-versus-a-copy\n",
            "  self._setitem_single_block(indexer, value, name)\n"
          ]
        },
        {
          "output_type": "stream",
          "name": "stdout",
          "text": [
            "19.379844961240313\n",
            "38.759689922480625\n",
            "58.139534883720934\n",
            "77.51937984496125\n",
            "96.89922480620154\n"
          ]
        }
      ]
    },
    {
      "cell_type": "markdown",
      "source": [
        "# 檢視資料"
      ],
      "metadata": {
        "id": "eoxbWzWqhn2g"
      }
    },
    {
      "cell_type": "code",
      "source": [
        "data\n"
      ],
      "metadata": {
        "id": "HsUcrrW_duBu",
        "colab": {
          "base_uri": "https://localhost:8080/",
          "height": 641
        },
        "outputId": "ec56cc93-6ed6-4328-afa8-2815b3eba136"
      },
      "execution_count": null,
      "outputs": [
        {
          "output_type": "execute_result",
          "data": {
            "text/html": [
              "\n",
              "  <div id=\"df-126bf368-547f-458f-a716-4148841d8565\">\n",
              "    <div class=\"colab-df-container\">\n",
              "      <div>\n",
              "<style scoped>\n",
              "    .dataframe tbody tr th:only-of-type {\n",
              "        vertical-align: middle;\n",
              "    }\n",
              "\n",
              "    .dataframe tbody tr th {\n",
              "        vertical-align: top;\n",
              "    }\n",
              "\n",
              "    .dataframe thead th {\n",
              "        text-align: right;\n",
              "    }\n",
              "</style>\n",
              "<table border=\"1\" class=\"dataframe\">\n",
              "  <thead>\n",
              "    <tr style=\"text-align: right;\">\n",
              "      <th></th>\n",
              "      <th>publishAt</th>\n",
              "      <th>newsId</th>\n",
              "      <th>categoryName</th>\n",
              "      <th>title</th>\n",
              "      <th>isCategoryHeadline</th>\n",
              "      <th>content</th>\n",
              "      <th>stock</th>\n",
              "    </tr>\n",
              "  </thead>\n",
              "  <tbody>\n",
              "    <tr>\n",
              "      <th>0</th>\n",
              "      <td>2021/08/31 21:10</td>\n",
              "      <td>4714587</td>\n",
              "      <td>台股新聞</td>\n",
              "      <td>〈台股盤前要聞〉財長示警股市2變數、新纖訂單滿到年底 今日必看財經新聞</td>\n",
              "      <td>1</td>\n",
              "      <td>關注盤前要聞重點，台股近來劇烈震盪，財政部長蘇建榮示警，兩大國際變數將影響後市；新纖目前在手...</td>\n",
              "      <td>[1409, 2101, 2102, 2881, 3324, 3545, 5820, 6558]</td>\n",
              "    </tr>\n",
              "    <tr>\n",
              "      <th>1</th>\n",
              "      <td>2021/08/31 23:20</td>\n",
              "      <td>4714108</td>\n",
              "      <td>台股新聞</td>\n",
              "      <td>這幾檔8月營收有望創新高 快加入口袋名單</td>\n",
              "      <td>1</td>\n",
              "      <td>盛群 (6202-TW) - 聯電集團 MCU 概念股因產品組合改善，毛利率近 52% 創歷...</td>\n",
              "      <td>[6202, 3264, 2379]</td>\n",
              "    </tr>\n",
              "    <tr>\n",
              "      <th>2</th>\n",
              "      <td>2021/08/31 23:43</td>\n",
              "      <td>4714689</td>\n",
              "      <td>台股新聞</td>\n",
              "      <td>盤前財經大事搶先讀2021年09月01日</td>\n",
              "      <td>1</td>\n",
              "      <td>今日操盤前瞻台灣無薪假統計亞洲、歐美製造業 PMI除權息：凱美、立隆電、聯邦銀、今國光等中國...</td>\n",
              "      <td>[1409, 2472, 2838, 6209, 6558]</td>\n",
              "    </tr>\n",
              "    <tr>\n",
              "      <th>3</th>\n",
              "      <td>2021/09/01 00:00</td>\n",
              "      <td>4714291</td>\n",
              "      <td>專家觀點</td>\n",
              "      <td>操盤手看台股：開始震盪、開始換股、資金卡位新題材</td>\n",
              "      <td>1</td>\n",
              "      <td>隨著 Fed 主席鮑爾暗示不急於加息的鴿派言論效益持續發酵，美國科技股全面大漲。本波台股自 ...</td>\n",
              "      <td>[2340, 2412, 3491, 6271, 6488]</td>\n",
              "    </tr>\n",
              "    <tr>\n",
              "      <th>4</th>\n",
              "      <td>2021/09/01 00:48</td>\n",
              "      <td>4714677</td>\n",
              "      <td>歐亞股</td>\n",
              "      <td>跟進台積電 傳三星晶圓代工漲價15%到20%</td>\n",
              "      <td>1</td>\n",
              "      <td>台積電將晶圓代工報價調漲 20% 之後，南韓媒體 The Elec 引述知情人士說法報導，三...</td>\n",
              "      <td>[2330, 2303, 6770, HK-0981]</td>\n",
              "    </tr>\n",
              "    <tr>\n",
              "      <th>...</th>\n",
              "      <td>...</td>\n",
              "      <td>...</td>\n",
              "      <td>...</td>\n",
              "      <td>...</td>\n",
              "      <td>...</td>\n",
              "      <td>...</td>\n",
              "      <td>...</td>\n",
              "    </tr>\n",
              "    <tr>\n",
              "      <th>7703</th>\n",
              "      <td>2022/01/31 08:00</td>\n",
              "      <td>4807605</td>\n",
              "      <td>台股新聞</td>\n",
              "      <td>〈企業衝生育率〉晶技育兒津貼方案 前三胎補助每月3000元起</td>\n",
              "      <td>1</td>\n",
              "      <td>物價、房價不斷上漲，台灣生育率逐年降低，甚至可能形成國安危機，政府、企業無不費盡心思祭出「催...</td>\n",
              "      <td>[3042]</td>\n",
              "    </tr>\n",
              "    <tr>\n",
              "      <th>7704</th>\n",
              "      <td>2022/01/31 09:00</td>\n",
              "      <td>4808165</td>\n",
              "      <td>台股新聞</td>\n",
              "      <td>〈企業衝生育率〉鴻海「0到6歲公司養」一胎補助130.5萬元 已發逾3億元</td>\n",
              "      <td>1</td>\n",
              "      <td>鴻海 (2317-TW) 積極推動生育政策，自 2020 年起推動「0 到 6 歲公司養」政...</td>\n",
              "      <td>[2317]</td>\n",
              "    </tr>\n",
              "    <tr>\n",
              "      <th>7705</th>\n",
              "      <td>2022/01/31 10:00</td>\n",
              "      <td>4802091</td>\n",
              "      <td>台股新聞</td>\n",
              "      <td>〈企業衝生育率〉中華電獨步全台減少員工工時 台灣大津貼最高12萬元</td>\n",
              "      <td>1</td>\n",
              "      <td>電信商為打造友善職場環境，今年全面提升育兒福利政策，中華電 (2412-TW) 獨步全台，有...</td>\n",
              "      <td>[2412, 3045, 4904]</td>\n",
              "    </tr>\n",
              "    <tr>\n",
              "      <th>7706</th>\n",
              "      <td>2022/01/31 10:30</td>\n",
              "      <td>4809088</td>\n",
              "      <td>台股新聞</td>\n",
              "      <td>〈企業衝生育率〉多家券商補助生育津貼 最高達10萬元</td>\n",
              "      <td>1</td>\n",
              "      <td>據統計，國內去年全年出生人數 15 萬 3820 人，創史上新低，人口負成長壓力持續擴大，因...</td>\n",
              "      <td>[]</td>\n",
              "    </tr>\n",
              "    <tr>\n",
              "      <th>7707</th>\n",
              "      <td>2022/01/31 11:00</td>\n",
              "      <td>4808749</td>\n",
              "      <td>台股新聞</td>\n",
              "      <td>〈企業衝生育率〉公股銀加碼生育津貼 一銀、華南銀生一胎補助10萬元起跳</td>\n",
              "      <td>1</td>\n",
              "      <td>響應政府鼓勵生育政策，公股銀行帶頭加碼給補貼，包括第一銀行、華南銀行與彰化銀行等都有相關的生...</td>\n",
              "      <td>[]</td>\n",
              "    </tr>\n",
              "  </tbody>\n",
              "</table>\n",
              "<p>7708 rows × 7 columns</p>\n",
              "</div>\n",
              "      <button class=\"colab-df-convert\" onclick=\"convertToInteractive('df-126bf368-547f-458f-a716-4148841d8565')\"\n",
              "              title=\"Convert this dataframe to an interactive table.\"\n",
              "              style=\"display:none;\">\n",
              "        \n",
              "  <svg xmlns=\"http://www.w3.org/2000/svg\" height=\"24px\"viewBox=\"0 0 24 24\"\n",
              "       width=\"24px\">\n",
              "    <path d=\"M0 0h24v24H0V0z\" fill=\"none\"/>\n",
              "    <path d=\"M18.56 5.44l.94 2.06.94-2.06 2.06-.94-2.06-.94-.94-2.06-.94 2.06-2.06.94zm-11 1L8.5 8.5l.94-2.06 2.06-.94-2.06-.94L8.5 2.5l-.94 2.06-2.06.94zm10 10l.94 2.06.94-2.06 2.06-.94-2.06-.94-.94-2.06-.94 2.06-2.06.94z\"/><path d=\"M17.41 7.96l-1.37-1.37c-.4-.4-.92-.59-1.43-.59-.52 0-1.04.2-1.43.59L10.3 9.45l-7.72 7.72c-.78.78-.78 2.05 0 2.83L4 21.41c.39.39.9.59 1.41.59.51 0 1.02-.2 1.41-.59l7.78-7.78 2.81-2.81c.8-.78.8-2.07 0-2.86zM5.41 20L4 18.59l7.72-7.72 1.47 1.35L5.41 20z\"/>\n",
              "  </svg>\n",
              "      </button>\n",
              "      \n",
              "  <style>\n",
              "    .colab-df-container {\n",
              "      display:flex;\n",
              "      flex-wrap:wrap;\n",
              "      gap: 12px;\n",
              "    }\n",
              "\n",
              "    .colab-df-convert {\n",
              "      background-color: #E8F0FE;\n",
              "      border: none;\n",
              "      border-radius: 50%;\n",
              "      cursor: pointer;\n",
              "      display: none;\n",
              "      fill: #1967D2;\n",
              "      height: 32px;\n",
              "      padding: 0 0 0 0;\n",
              "      width: 32px;\n",
              "    }\n",
              "\n",
              "    .colab-df-convert:hover {\n",
              "      background-color: #E2EBFA;\n",
              "      box-shadow: 0px 1px 2px rgba(60, 64, 67, 0.3), 0px 1px 3px 1px rgba(60, 64, 67, 0.15);\n",
              "      fill: #174EA6;\n",
              "    }\n",
              "\n",
              "    [theme=dark] .colab-df-convert {\n",
              "      background-color: #3B4455;\n",
              "      fill: #D2E3FC;\n",
              "    }\n",
              "\n",
              "    [theme=dark] .colab-df-convert:hover {\n",
              "      background-color: #434B5C;\n",
              "      box-shadow: 0px 1px 3px 1px rgba(0, 0, 0, 0.15);\n",
              "      filter: drop-shadow(0px 1px 2px rgba(0, 0, 0, 0.3));\n",
              "      fill: #FFFFFF;\n",
              "    }\n",
              "  </style>\n",
              "\n",
              "      <script>\n",
              "        const buttonEl =\n",
              "          document.querySelector('#df-126bf368-547f-458f-a716-4148841d8565 button.colab-df-convert');\n",
              "        buttonEl.style.display =\n",
              "          google.colab.kernel.accessAllowed ? 'block' : 'none';\n",
              "\n",
              "        async function convertToInteractive(key) {\n",
              "          const element = document.querySelector('#df-126bf368-547f-458f-a716-4148841d8565');\n",
              "          const dataTable =\n",
              "            await google.colab.kernel.invokeFunction('convertToInteractive',\n",
              "                                                     [key], {});\n",
              "          if (!dataTable) return;\n",
              "\n",
              "          const docLinkHtml = 'Like what you see? Visit the ' +\n",
              "            '<a target=\"_blank\" href=https://colab.research.google.com/notebooks/data_table.ipynb>data table notebook</a>'\n",
              "            + ' to learn more about interactive tables.';\n",
              "          element.innerHTML = '';\n",
              "          dataTable['output_type'] = 'display_data';\n",
              "          await google.colab.output.renderOutput(dataTable, element);\n",
              "          const docLink = document.createElement('div');\n",
              "          docLink.innerHTML = docLinkHtml;\n",
              "          element.appendChild(docLink);\n",
              "        }\n",
              "      </script>\n",
              "    </div>\n",
              "  </div>\n",
              "  "
            ],
            "text/plain": [
              "             publishAt  ...                                             stock\n",
              "0     2021/08/31 21:10  ...  [1409, 2101, 2102, 2881, 3324, 3545, 5820, 6558]\n",
              "1     2021/08/31 23:20  ...                                [6202, 3264, 2379]\n",
              "2     2021/08/31 23:43  ...                    [1409, 2472, 2838, 6209, 6558]\n",
              "3     2021/09/01 00:00  ...                    [2340, 2412, 3491, 6271, 6488]\n",
              "4     2021/09/01 00:48  ...                       [2330, 2303, 6770, HK-0981]\n",
              "...                ...  ...                                               ...\n",
              "7703  2022/01/31 08:00  ...                                            [3042]\n",
              "7704  2022/01/31 09:00  ...                                            [2317]\n",
              "7705  2022/01/31 10:00  ...                                [2412, 3045, 4904]\n",
              "7706  2022/01/31 10:30  ...                                                []\n",
              "7707  2022/01/31 11:00  ...                                                []\n",
              "\n",
              "[7708 rows x 7 columns]"
            ]
          },
          "metadata": {},
          "execution_count": 13
        }
      ]
    },
    {
      "cell_type": "markdown",
      "source": [
        "# 連結Google Drive並匯出資料"
      ],
      "metadata": {
        "id": "lbF3QCDQizsk"
      }
    },
    {
      "cell_type": "code",
      "source": [
        "\n",
        "from google.colab import drive\n",
        "drive.mount('/content/drive')\n",
        "\n",
        "\n",
        "#輸出檔案\n",
        "path = '/content/drive/MyDrive/Colab Notebooks/'+file_name+'.csv'\n",
        "data.to_csv(path)"
      ],
      "metadata": {
        "id": "KtmisyrisxVr",
        "colab": {
          "base_uri": "https://localhost:8080/"
        },
        "outputId": "2eb2c207-4dc4-48ff-d46f-c755c9d04412"
      },
      "execution_count": null,
      "outputs": [
        {
          "output_type": "stream",
          "name": "stdout",
          "text": [
            "Mounted at /content/drive\n"
          ]
        }
      ]
    }
  ]
}