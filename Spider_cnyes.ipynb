{
  "nbformat": 4,
  "nbformat_minor": 0,
  "metadata": {
    "colab": {
      "name": "Spider_cnyes.ipynb",
      "provenance": [],
      "collapsed_sections": [],
      "authorship_tag": "ABX9TyMNgk3chxXxrvQGIujlWoLc",
      "include_colab_link": true
    },
    "kernelspec": {
      "name": "python3",
      "display_name": "Python 3"
    },
    "language_info": {
      "name": "python"
    }
  },
  "cells": [
    {
      "cell_type": "markdown",
      "metadata": {
        "id": "view-in-github",
        "colab_type": "text"
      },
      "source": [
        "<a href=\"https://colab.research.google.com/github/cheng1103/cheng1103/blob/main/Spider_cnyes.ipynb\" target=\"_parent\"><img src=\"https://colab.research.google.com/assets/colab-badge.svg\" alt=\"Open In Colab\"/></a>"
      ]
    },
    {
      "cell_type": "markdown",
      "source": [
        "<p><strong>備忘錄：</strong></p>\n",
        "\n",
        "<p>鉅亨網新聞資料起始日：2009/05/30</p>\n"
      ],
      "metadata": {
        "id": "afItgO51IoQn"
      }
    },
    {
      "cell_type": "code",
      "source": [
        "#https://colab.research.google.com/drive/12CvYz3OMLgMl1dVW69KEO5IhWgsqUJCj#scrollTo=QvlG2w58eYLV\n",
        "\n",
        "#透過 ckiptagger 來使用繁體中文斷詞的最佳工具 CKIP\n",
        "#https://clay-atlas.com/blog/2019/09/24/python-chinese-tutorial-ckiptagger/\n",
        "#GKIPtagger – 國產斷詞工具\n",
        "#http://13.231.129.69/2020/12/31/python-gkiptagger-%E5%9C%8B%E7%94%A2%E6%96%B7%E8%A9%9E%E5%B7%A5%E5%85%B7/\n",
        "#中文NLP\n",
        "#https://medium.com/%E4%B8%AD%E6%96%87-nlp-%E8%99%95%E7%90%86\n",
        "\n",
        "#鉅亨網區塊鏈\n",
        "#"
      ],
      "metadata": {
        "id": "H_SIEN9ew-5n"
      },
      "execution_count": null,
      "outputs": []
    },
    {
      "cell_type": "code",
      "source": [
        "#安裝套件\n",
        "#!pip install ckipnlp\n",
        "\n",
        "\n",
        "\n",
        "\n",
        "\n",
        "\n",
        "#==============================================\n",
        "#清除所有變數\n",
        "%reset -f"
      ],
      "metadata": {
        "id": "zNcufoqep0Ko",
        "cellView": "code"
      },
      "execution_count": null,
      "outputs": []
    },
    {
      "cell_type": "markdown",
      "source": [
        "# **懶惰蟲：自動點擊程式(適用在Edge與chrome)**"
      ],
      "metadata": {
        "id": "x3Gl9xw4Jyyf"
      }
    },
    {
      "cell_type": "code",
      "source": [
        "'''\n",
        "function ClickConnect(){\n",
        "console.log(\"Working\"); \n",
        "document.querySelector(\"colab-toolbar-button\").click() \n",
        "}\n",
        "setInterval(ClickConnect,Math.random()*1000*60*3)\n",
        "'''"
      ],
      "metadata": {
        "id": "P83Vz2eHSR2U"
      },
      "execution_count": null,
      "outputs": []
    },
    {
      "cell_type": "markdown",
      "source": [
        "# **安裝並載入套件**"
      ],
      "metadata": {
        "id": "4u1lolz2_ykf"
      }
    },
    {
      "cell_type": "code",
      "source": [
        "!pip install fake_useragent\n",
        "from fake_useragent import UserAgent\n",
        "import requests\n",
        "from bs4 import BeautifulSoup\n",
        "from lxml import etree\n",
        "\n",
        "import random\n",
        "import time\n",
        "import datetime\n",
        "import json\n",
        "import pandas as pd\n",
        "\n",
        "\n",
        "#https://api.cnyes.com/media/api/v1/newslist/all?startAt=1642608000&endAt=1643558399&limit=30\n",
        "#https://api.cnyes.com/media/api/v1/newslist/category/headline?startAt=1642608000&endAt=1643558399&limit=30"
      ],
      "metadata": {
        "id": "8sRkBMjM7Lca",
        "colab": {
          "base_uri": "https://localhost:8080/"
        },
        "outputId": "521783b9-67e6-4ace-aed6-f4b1ba0c644d"
      },
      "execution_count": null,
      "outputs": [
        {
          "output_type": "stream",
          "name": "stdout",
          "text": [
            "Requirement already satisfied: fake_useragent in /usr/local/lib/python3.7/dist-packages (0.1.11)\n"
          ]
        }
      ]
    },
    {
      "cell_type": "markdown",
      "source": [
        "# **爬取鉅亨網新聞網址清單**"
      ],
      "metadata": {
        "id": "-Lt-MrRvpOUV"
      }
    },
    {
      "cell_type": "code",
      "source": [
        "def url_list(s_time,e_time):\n",
        "  \n",
        "  #==============================================\n",
        "  #時間區間設定\n",
        "  s_time = int(time.mktime(time.strptime(s_time, \"%Y-%m-%d %H:%M:%S\")))-28800 # 轉成時間戳\n",
        "  e_time = int(time.mktime(time.strptime(e_time, \"%Y-%m-%d %H:%M:%S\")))-28800\n",
        "\n",
        "  #==============================================\n",
        "  p = 1\n",
        "  l_page = 9\n",
        "  data = pd.DataFrame()\n",
        "\n",
        "  while p <= l_page :\n",
        "\n",
        "    headers = UserAgent().random #隨機請求表頭\n",
        "    \n",
        "    url = 'https://api.cnyes.com/media/api/v1/newslist/category/'+c+'?startAt='+str(s_time)+'&endAt='+str(e_time)+CH+\"&limit=30&page=\"+str(p)\n",
        "    req = requests.get(url, headers={\"User-Agent\":headers})\n",
        "    req = req.json()\n",
        "\n",
        "    #最末頁之路徑\n",
        "    if p == 1:\n",
        "      l_page = req[\"items\"][\"last_page\"] \n",
        "\n",
        "    req_data = req[\"items\"][\"data\"]\n",
        "    temp_data = pd.DataFrame.from_dict(req_data)\n",
        "    \n",
        "    #擷取資料\n",
        "    publishAt = temp_data['publishAt']\n",
        "    newsId = temp_data['newsId']\n",
        "    title = temp_data['title']\n",
        "    #isIndex = temp_data['isIndex'] \n",
        "    isCategoryHeadline = temp_data['isCategoryHeadline']\n",
        "    #categoryId = temp_data['categoryId']\n",
        "    \n",
        "    temp_data = pd.concat([publishAt, newsId, title, isCategoryHeadline ], 1)\n",
        "    data = pd.concat([data, temp_data])\n",
        "    \n",
        "    \n",
        "\n",
        "    #休眠\n",
        "    t = random.uniform(0.005, 0.25) #隨機數\n",
        "    time.sleep(t) #暫停\n",
        "\n",
        "    p = p+1\n",
        "\n",
        "    if p%50 == 0:\n",
        "      print(p/l_page*100)\n",
        "      time.sleep(0.5)\n",
        "\n",
        "    if p%200 == 0:\n",
        "      data.drop_duplicates(subset='newsId', keep='first', inplace=True) #移除重複資料\n",
        "      time.sleep(2)\n",
        "\n",
        "  data.drop_duplicates(subset='newsId', keep='first', inplace=True) #移除重複資料\n",
        "  return(data)\n",
        "\n"
      ],
      "metadata": {
        "id": "JuqudU7urVAr"
      },
      "execution_count": null,
      "outputs": []
    },
    {
      "cell_type": "markdown",
      "source": [
        "# **新聞類別與區間設定**"
      ],
      "metadata": {
        "id": "5jgVBggFpjLR"
      }
    },
    {
      "cell_type": "code",
      "source": [
        "#頭條設定 \n",
        "# 1表示限定頭條； 0表示不限 \n",
        "Headline = 1\n",
        "\n",
        "#輸入類別\n",
        "c = '台股'\n",
        "\n",
        "#查詢區間\n",
        "s_time = \"2021-01-01 00:00:00\" #開始日期 \n",
        "e_time = \"2021-04-01 00:00:00\" #結束日期\n",
        "\n",
        "\n",
        "#==============================================\n",
        "from fake_useragent import UserAgent\n",
        "data_URL = []\n",
        "\n",
        "kind = {\n",
        "  '台股':'tw_stock',\n",
        "  '台灣政經':'tw_macro',\n",
        "  '台股盤勢':'tw_quo',\n",
        "  '專家觀點':'stock_report',\n",
        "  '台股新聞':'tw_stock_news',\n",
        "\n",
        "  '國際股':'wd_stock',\n",
        "  '美股':'us_stock',\n",
        "  '美股雷達':'us_stock_live',\n",
        "  '歐亞股':'eu_asia_stock',\n",
        "  '國際政經':'wd_macro',\n",
        "\n",
        "  '陸港股':'cn_stock',\n",
        "  '外匯':'forex',\n",
        "  '期貨':'future',\n",
        "  '房產':'cnyeshouse',\n",
        "  '基金':'fund'\n",
        "\n",
        "}\n",
        "\n",
        "c = kind.get(c)\n",
        "\n",
        "\n",
        "#頭條篩選\n",
        "if Headline == 1 :\n",
        "  CH = '&isCategoryHeadline=1'\n",
        "else :\n",
        "  CH = ''"
      ],
      "metadata": {
        "id": "xj5iK1cXiZ9h"
      },
      "execution_count": null,
      "outputs": []
    },
    {
      "cell_type": "markdown",
      "source": [
        "**執行程式**"
      ],
      "metadata": {
        "id": "iYEHWFTNp1yH"
      }
    },
    {
      "cell_type": "code",
      "source": [
        "data_URL = url_list(s_time,e_time)\n",
        "data_URL = data_URL.sort_values(by='publishAt', ascending=True)\n",
        "data_URL = data_URL.reset_index(drop=True) "
      ],
      "metadata": {
        "id": "NaKvr2pjc4pM",
        "colab": {
          "base_uri": "https://localhost:8080/"
        },
        "outputId": "266d8268-ed38-4f79-8002-fb72c7668ab0"
      },
      "execution_count": null,
      "outputs": [
        {
          "output_type": "stream",
          "name": "stdout",
          "text": [
            "37.03703703703704\n",
            "74.07407407407408\n"
          ]
        }
      ]
    },
    {
      "cell_type": "code",
      "source": [
        "#檢視資料\n",
        "data_URL"
      ],
      "metadata": {
        "id": "HsUcrrW_duBu",
        "colab": {
          "base_uri": "https://localhost:8080/",
          "height": 607
        },
        "outputId": "7cc42432-c7e0-4835-a9bb-6a95f9f0b080"
      },
      "execution_count": null,
      "outputs": [
        {
          "output_type": "execute_result",
          "data": {
            "text/html": [
              "\n",
              "  <div id=\"df-1aa4d0b9-5edc-470d-afeb-b227af6b9c1d\">\n",
              "    <div class=\"colab-df-container\">\n",
              "      <div>\n",
              "<style scoped>\n",
              "    .dataframe tbody tr th:only-of-type {\n",
              "        vertical-align: middle;\n",
              "    }\n",
              "\n",
              "    .dataframe tbody tr th {\n",
              "        vertical-align: top;\n",
              "    }\n",
              "\n",
              "    .dataframe thead th {\n",
              "        text-align: right;\n",
              "    }\n",
              "</style>\n",
              "<table border=\"1\" class=\"dataframe\">\n",
              "  <thead>\n",
              "    <tr style=\"text-align: right;\">\n",
              "      <th></th>\n",
              "      <th>publishAt</th>\n",
              "      <th>newsId</th>\n",
              "      <th>title</th>\n",
              "      <th>isCategoryHeadline</th>\n",
              "    </tr>\n",
              "  </thead>\n",
              "  <tbody>\n",
              "    <tr>\n",
              "      <th>0</th>\n",
              "      <td>1609472787</td>\n",
              "      <td>4555666</td>\n",
              "      <td>〈潛力股〉受惠車市快速復甦及電動車產業起飛 敬鵬營運不淡</td>\n",
              "      <td>1</td>\n",
              "    </tr>\n",
              "    <tr>\n",
              "      <th>1</th>\n",
              "      <td>1609472921</td>\n",
              "      <td>4555657</td>\n",
              "      <td>〈潛力股〉和大搭電動車成長順風車 獲利動能加溫</td>\n",
              "      <td>1</td>\n",
              "    </tr>\n",
              "    <tr>\n",
              "      <th>2</th>\n",
              "      <td>1609473015</td>\n",
              "      <td>4555641</td>\n",
              "      <td>〈潛力股〉閎暉調整營運體質見效 明年挑戰擺脫連5年虧損</td>\n",
              "      <td>1</td>\n",
              "    </tr>\n",
              "    <tr>\n",
              "      <th>3</th>\n",
              "      <td>1609473064</td>\n",
              "      <td>4555695</td>\n",
              "      <td>〈潛力股〉環宇-KY基站回溫、轉投資發酵 營運拚反彈</td>\n",
              "      <td>1</td>\n",
              "    </tr>\n",
              "    <tr>\n",
              "      <th>4</th>\n",
              "      <td>1609473391</td>\n",
              "      <td>4555707</td>\n",
              "      <td>〈潛力股〉奇力新電感、LTCC需求展望佳 併帛漢挹注長期獲利動能</td>\n",
              "      <td>1</td>\n",
              "    </tr>\n",
              "    <tr>\n",
              "      <th>...</th>\n",
              "      <td>...</td>\n",
              "      <td>...</td>\n",
              "      <td>...</td>\n",
              "      <td>...</td>\n",
              "    </tr>\n",
              "    <tr>\n",
              "      <th>4028</th>\n",
              "      <td>1617280223</td>\n",
              "      <td>4623303</td>\n",
              "      <td>LCD及DRAM輪流大漲 透露Q2選股方向</td>\n",
              "      <td>1</td>\n",
              "    </tr>\n",
              "    <tr>\n",
              "      <th>4029</th>\n",
              "      <td>1617280816</td>\n",
              "      <td>4623477</td>\n",
              "      <td>〈台積電大擴產〉砸千億美元擴廠 設備業者迎高速成長期</td>\n",
              "      <td>1</td>\n",
              "    </tr>\n",
              "    <tr>\n",
              "      <th>4030</th>\n",
              "      <td>1617281688</td>\n",
              "      <td>4623507</td>\n",
              "      <td>壽險、券商前2月減碼台股逾610億元 金融三業可加碼銀彈逾8.3兆元</td>\n",
              "      <td>1</td>\n",
              "    </tr>\n",
              "    <tr>\n",
              "      <th>4031</th>\n",
              "      <td>1617282099</td>\n",
              "      <td>4623513</td>\n",
              "      <td>改列全額交割股 台開：將加速處分資產並取得融資協助</td>\n",
              "      <td>1</td>\n",
              "    </tr>\n",
              "    <tr>\n",
              "      <th>4032</th>\n",
              "      <td>1617291675</td>\n",
              "      <td>4623541</td>\n",
              "      <td>港建前2月純益年增76% EPS為0.84元</td>\n",
              "      <td>1</td>\n",
              "    </tr>\n",
              "  </tbody>\n",
              "</table>\n",
              "<p>4033 rows × 4 columns</p>\n",
              "</div>\n",
              "      <button class=\"colab-df-convert\" onclick=\"convertToInteractive('df-1aa4d0b9-5edc-470d-afeb-b227af6b9c1d')\"\n",
              "              title=\"Convert this dataframe to an interactive table.\"\n",
              "              style=\"display:none;\">\n",
              "        \n",
              "  <svg xmlns=\"http://www.w3.org/2000/svg\" height=\"24px\"viewBox=\"0 0 24 24\"\n",
              "       width=\"24px\">\n",
              "    <path d=\"M0 0h24v24H0V0z\" fill=\"none\"/>\n",
              "    <path d=\"M18.56 5.44l.94 2.06.94-2.06 2.06-.94-2.06-.94-.94-2.06-.94 2.06-2.06.94zm-11 1L8.5 8.5l.94-2.06 2.06-.94-2.06-.94L8.5 2.5l-.94 2.06-2.06.94zm10 10l.94 2.06.94-2.06 2.06-.94-2.06-.94-.94-2.06-.94 2.06-2.06.94z\"/><path d=\"M17.41 7.96l-1.37-1.37c-.4-.4-.92-.59-1.43-.59-.52 0-1.04.2-1.43.59L10.3 9.45l-7.72 7.72c-.78.78-.78 2.05 0 2.83L4 21.41c.39.39.9.59 1.41.59.51 0 1.02-.2 1.41-.59l7.78-7.78 2.81-2.81c.8-.78.8-2.07 0-2.86zM5.41 20L4 18.59l7.72-7.72 1.47 1.35L5.41 20z\"/>\n",
              "  </svg>\n",
              "      </button>\n",
              "      \n",
              "  <style>\n",
              "    .colab-df-container {\n",
              "      display:flex;\n",
              "      flex-wrap:wrap;\n",
              "      gap: 12px;\n",
              "    }\n",
              "\n",
              "    .colab-df-convert {\n",
              "      background-color: #E8F0FE;\n",
              "      border: none;\n",
              "      border-radius: 50%;\n",
              "      cursor: pointer;\n",
              "      display: none;\n",
              "      fill: #1967D2;\n",
              "      height: 32px;\n",
              "      padding: 0 0 0 0;\n",
              "      width: 32px;\n",
              "    }\n",
              "\n",
              "    .colab-df-convert:hover {\n",
              "      background-color: #E2EBFA;\n",
              "      box-shadow: 0px 1px 2px rgba(60, 64, 67, 0.3), 0px 1px 3px 1px rgba(60, 64, 67, 0.15);\n",
              "      fill: #174EA6;\n",
              "    }\n",
              "\n",
              "    [theme=dark] .colab-df-convert {\n",
              "      background-color: #3B4455;\n",
              "      fill: #D2E3FC;\n",
              "    }\n",
              "\n",
              "    [theme=dark] .colab-df-convert:hover {\n",
              "      background-color: #434B5C;\n",
              "      box-shadow: 0px 1px 3px 1px rgba(0, 0, 0, 0.15);\n",
              "      filter: drop-shadow(0px 1px 2px rgba(0, 0, 0, 0.3));\n",
              "      fill: #FFFFFF;\n",
              "    }\n",
              "  </style>\n",
              "\n",
              "      <script>\n",
              "        const buttonEl =\n",
              "          document.querySelector('#df-1aa4d0b9-5edc-470d-afeb-b227af6b9c1d button.colab-df-convert');\n",
              "        buttonEl.style.display =\n",
              "          google.colab.kernel.accessAllowed ? 'block' : 'none';\n",
              "\n",
              "        async function convertToInteractive(key) {\n",
              "          const element = document.querySelector('#df-1aa4d0b9-5edc-470d-afeb-b227af6b9c1d');\n",
              "          const dataTable =\n",
              "            await google.colab.kernel.invokeFunction('convertToInteractive',\n",
              "                                                     [key], {});\n",
              "          if (!dataTable) return;\n",
              "\n",
              "          const docLinkHtml = 'Like what you see? Visit the ' +\n",
              "            '<a target=\"_blank\" href=https://colab.research.google.com/notebooks/data_table.ipynb>data table notebook</a>'\n",
              "            + ' to learn more about interactive tables.';\n",
              "          element.innerHTML = '';\n",
              "          dataTable['output_type'] = 'display_data';\n",
              "          await google.colab.output.renderOutput(dataTable, element);\n",
              "          const docLink = document.createElement('div');\n",
              "          docLink.innerHTML = docLinkHtml;\n",
              "          element.appendChild(docLink);\n",
              "        }\n",
              "      </script>\n",
              "    </div>\n",
              "  </div>\n",
              "  "
            ],
            "text/plain": [
              "       publishAt  ...  isCategoryHeadline\n",
              "0     1609472787  ...                   1\n",
              "1     1609472921  ...                   1\n",
              "2     1609473015  ...                   1\n",
              "3     1609473064  ...                   1\n",
              "4     1609473391  ...                   1\n",
              "...          ...  ...                 ...\n",
              "4028  1617280223  ...                   1\n",
              "4029  1617280816  ...                   1\n",
              "4030  1617281688  ...                   1\n",
              "4031  1617282099  ...                   1\n",
              "4032  1617291675  ...                   1\n",
              "\n",
              "[4033 rows x 4 columns]"
            ]
          },
          "metadata": {},
          "execution_count": 129
        }
      ]
    },
    {
      "cell_type": "code",
      "source": [
        "from fake_useragent import UserAgent\n",
        "import requests\n",
        "from bs4 import BeautifulSoup\n",
        "from lxml import etree\n",
        "\n",
        "import random\n",
        "import time\n",
        "import datetime\n",
        "import json\n",
        "import pandas as pd\n",
        "\n",
        "data = pd.DataFrame()\n",
        "l_page = len(data_URL)\n",
        "\n",
        "for i in range(l_page):\n",
        "\n",
        "  headers = UserAgent().random\n",
        "  url = data_URL['newsId'][i]\n",
        "  url = 'https://news.cnyes.com/news/id/'+str(url)\n",
        "\n",
        "  req = requests.get(url, headers={\"User-Agent\":headers})\n",
        "  req = req.content.decode()\n",
        "  req = etree.HTML(req)\n",
        "\n",
        "  catalog = req.xpath('//*[@id=\"content\"]/div/div/div[2]/main/div[2]/div[1]/nav/a/span/span/text()')\n",
        "  catalog = \",\".join(catalog)\n",
        "\n",
        "  title = req.xpath('//*[@id=\"content\"]/div/div/div[2]/main/div[2]/h1/text()')\n",
        "  title = \"\".join(title)\n",
        "\n",
        "  reporter = req.xpath('//*[@id=\"content\"]/div/div/div[2]/main/div[2]/div[2]/span/span/text()')\n",
        "  reporter = \"\".join(reporter)\n",
        "\n",
        "\n",
        "  d_time = req.xpath('//*[@id=\"content\"]/div/div/div[2]/main/div[2]/div[2]/time/text()')\n",
        "  d_time = \"\".join(d_time)\n",
        "\n",
        "  content = req.xpath('//*[@id=\"content\"]/div/div/div[2]/main/div[3]/article/section[1]/div[2]/div/p/text() | //*[@id=\"content\"]/div/div/div[2]/main/div[3]/article/section[1]/div[2]/div/p/a/text()')\n",
        "  content = \"\".join(content)\n",
        "\n",
        "  tag = req.xpath('//*[@id=\"content\"]/div/div/div[2]/main/div[3]/article/section[1]/nav/a/span/text()')\n",
        "  tag = \",\".join(tag)\n",
        "\n",
        "  publishAt = data_URL['publishAt'][i]\n",
        "  #publishAt = url_list['publishAt'](index)\n",
        "\n",
        "\n",
        "  temp_data ={(publishAt ,d_time, catalog, title, reporter, content, tag, url)}\n",
        "  temp_data = pd.DataFrame(temp_data)\n",
        "  #temp_data.columns = ['time', 'publishAt', 'catalog', 'title', 'reporter', 'content', 'tag']\n",
        "  data = data.append(temp_data)\n",
        "\n",
        "  t = random.uniform(0.005, 0.2) #隨機數\n",
        "  time.sleep(t) #暫停\n",
        "\n",
        "  if i % 50 == 0:\n",
        "    print(i/l_page*100)\n",
        "    time.sleep(0.5)\n",
        "\n",
        "  if i % 250 == 0:\n",
        "    time.sleep(2.5)\n",
        "\n"
      ],
      "metadata": {
        "colab": {
          "base_uri": "https://localhost:8080/"
        },
        "id": "7W7Oxdrk9bMd",
        "outputId": "a44c9a40-1a83-4b5f-e0ee-582b695c2261"
      },
      "execution_count": null,
      "outputs": [
        {
          "output_type": "stream",
          "name": "stdout",
          "text": [
            "0.0\n",
            "1.239771881973717\n",
            "2.479543763947434\n",
            "3.7193156459211507\n",
            "4.959087527894868\n",
            "6.198859409868584\n",
            "7.438631291842301\n",
            "8.678403173816019\n",
            "9.918175055789735\n",
            "11.157946937763452\n",
            "12.397718819737168\n",
            "13.637490701710886\n",
            "14.877262583684603\n",
            "16.11703446565832\n",
            "17.356806347632038\n",
            "18.596578229605754\n",
            "19.83635011157947\n",
            "21.076121993553187\n",
            "22.315893875526903\n",
            "23.55566575750062\n",
            "24.795437639474336\n",
            "26.035209521448056\n",
            "27.274981403421773\n",
            "28.51475328539549\n",
            "29.754525167369206\n"
          ]
        }
      ]
    },
    {
      "cell_type": "code",
      "source": [
        "data.columns = [ 'publishAt', 'time', 'catalog', 'title', 'reporter', 'content', 'tag', 'url']\n",
        "\n",
        "data\n",
        "\n",
        "'''\n",
        "from google.colab import drive\n",
        "drive.mount('/content/drive')\n",
        "'''\n",
        "\n",
        "\n",
        "#輸出檔案\n",
        "#data.to_csv('/content/drive/MyDrive/Colab Notebooks/sample.csv')"
      ],
      "metadata": {
        "id": "KtmisyrisxVr",
        "colab": {
          "base_uri": "https://localhost:8080/"
        },
        "outputId": "3609c533-bef7-44e2-b5d9-0be29ac1a95e"
      },
      "execution_count": null,
      "outputs": [
        {
          "output_type": "stream",
          "name": "stdout",
          "text": [
            "Drive already mounted at /content/drive; to attempt to forcibly remount, call drive.mount(\"/content/drive\", force_remount=True).\n"
          ]
        }
      ]
    },
    {
      "cell_type": "code",
      "source": [
        "#檔案讀寫\n",
        "'''\n",
        "from google.colab import drive\n",
        "drive.mount('/content/drive')\n",
        "'''\n",
        "'''\n",
        "#輸出檔案\n",
        "data_url.to_csv('/content/drive/MyDrive/Colab Notebooks/cnyes-url-2017.csv')\n",
        "\n",
        "\n",
        "\n",
        "url = pd.read_csv('/content/drive/MyDrive/Colab Notebooks/cnyes-url-2020.csv')\n",
        "\n",
        "\n",
        "'''\n",
        "\n",
        "#url = url.drop(columns=['Unnamed: 0'])"
      ],
      "metadata": {
        "id": "obgs8wFYmYDI"
      },
      "execution_count": null,
      "outputs": []
    },
    {
      "cell_type": "code",
      "source": [
        ""
      ],
      "metadata": {
        "id": "dqO-DDmxHnX-"
      },
      "execution_count": null,
      "outputs": []
    }
  ]
}